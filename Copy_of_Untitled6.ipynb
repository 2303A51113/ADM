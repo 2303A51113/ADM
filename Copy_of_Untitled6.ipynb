{
  "nbformat": 4,
  "nbformat_minor": 0,
  "metadata": {
    "colab": {
      "provenance": [],
      "authorship_tag": "ABX9TyNUjOrC6tVqM3QuhK+0nHI4",
      "include_colab_link": true
    },
    "kernelspec": {
      "name": "python3",
      "display_name": "Python 3"
    },
    "language_info": {
      "name": "python"
    }
  },
  "cells": [
    {
      "cell_type": "markdown",
      "metadata": {
        "id": "view-in-github",
        "colab_type": "text"
      },
      "source": [
        "<a href=\"https://colab.research.google.com/github/2303A51113/ADM/blob/main/Copy_of_Untitled6.ipynb\" target=\"_parent\"><img src=\"https://colab.research.google.com/assets/colab-badge.svg\" alt=\"Open In Colab\"/></a>"
      ]
    },
    {
      "cell_type": "code",
      "source": [
        "import pandas as pd\n"
      ],
      "metadata": {
        "id": "QrJ3kbwktD6q"
      },
      "execution_count": null,
      "outputs": []
    },
    {
      "cell_type": "code",
      "source": [
        "# Load dataset\n",
        "file_path = '/content/sample_data/wine_data.csv'\n",
        "data = pd.read_csv(file_path)\n"
      ],
      "metadata": {
        "id": "BWO_ysZStD95"
      },
      "execution_count": null,
      "outputs": []
    },
    {
      "cell_type": "code",
      "source": [
        "# One-hot encoding for 'quality'\n",
        "encoded_data = pd.get_dummies(data, columns=['quality'], prefix='quality')\n"
      ],
      "metadata": {
        "id": "xNSxdknotD_-"
      },
      "execution_count": null,
      "outputs": []
    },
    {
      "source": [
        "# Display sample data after encoding\n",
        "print(\"One-hot Encoded Data:\\n\", encoded_data.head())\n",
        "# derived column # This line caused the error due to a non-printable character. It's commented out now."
      ],
      "cell_type": "code",
      "metadata": {
        "colab": {
          "base_uri": "https://localhost:8080/"
        },
        "id": "Ygc01LLFtm-T",
        "outputId": "245fe80b-aa80-4b45-a893-abbf2a5194bd"
      },
      "execution_count": null,
      "outputs": [
        {
          "output_type": "stream",
          "name": "stdout",
          "text": [
            "One-hot Encoded Data:\n",
            "    fixed_acidity  volatile_acidity  citric_acid  residual_sugar  chlorides  \\\n",
            "0           11.6             0.580         0.66            2.20      0.074   \n",
            "1           10.4             0.610         0.49            2.10      0.200   \n",
            "2            7.4             1.185         0.00            4.25      0.097   \n",
            "3           10.4             0.440         0.42            1.50      0.145   \n",
            "4            8.3             1.020         0.02            3.40      0.084   \n",
            "\n",
            "   free_sulfur_dioxide  total_sulfur_dioxide  density    pH  sulphates  \\\n",
            "0                 10.0                  47.0  1.00080  3.25       0.57   \n",
            "1                  5.0                  16.0  0.99940  3.16       0.63   \n",
            "2                  5.0                  14.0  0.99660  3.63       0.54   \n",
            "3                 34.0                  48.0  0.99832  3.38       0.86   \n",
            "4                  6.0                  11.0  0.99892  3.48       0.49   \n",
            "\n",
            "   alcohol  quality_3  quality_4  quality_5  quality_6  quality_7  quality_8  \\\n",
            "0      9.0       True      False      False      False      False      False   \n",
            "1      8.4       True      False      False      False      False      False   \n",
            "2     10.7       True      False      False      False      False      False   \n",
            "3      9.9       True      False      False      False      False      False   \n",
            "4     11.0       True      False      False      False      False      False   \n",
            "\n",
            "   quality_9  \n",
            "0      False  \n",
            "1      False  \n",
            "2      False  \n",
            "3      False  \n",
            "4      False  \n"
          ]
        }
      ]
    },
    {
      "cell_type": "code",
      "source": [
        "# Group by quality and compute mean alcohol content\n",
        "grouped_data = data.groupby('quality')['alcohol'].mean().reset_index()\n"
      ],
      "metadata": {
        "id": "b5T1pf7dtEFM"
      },
      "execution_count": null,
      "outputs": []
    },
    {
      "source": [
        "# Group by quality and compute mean alcohol content\n",
        "grouped_data = data.groupby('quality')['alcohol'].mean().reset_index()\n",
        "\n",
        "# %%\n",
        "print(\"Grouped Data:\\n\", grouped_data)\n",
        "# grouping and aggetation # Removed extra space and potential unicode chars causing indent error."
      ],
      "cell_type": "code",
      "metadata": {
        "colab": {
          "base_uri": "https://localhost:8080/"
        },
        "id": "phV1bzcjt4sY",
        "outputId": "de353643-115d-44b2-b5f7-209909b9deb1"
      },
      "execution_count": null,
      "outputs": [
        {
          "output_type": "stream",
          "name": "stdout",
          "text": [
            "Grouped Data:\n",
            "    quality    alcohol\n",
            "0        3  11.624750\n",
            "1        4  11.553267\n",
            "2        5  10.371093\n",
            "3        6  10.646033\n",
            "4        7  11.619100\n",
            "5        8  11.595200\n",
            "6        9  11.632567\n"
          ]
        }
      ]
    },
    {
      "cell_type": "code",
      "source": [
        "# Create a pivot table for average citric acid values across quality levels\n",
        "pivot_table = data.pivot_table(values='citric_acid', index='quality', aggfunc='mean').reset_index()\n"
      ],
      "metadata": {
        "id": "uM-bSbbAtEJ8"
      },
      "execution_count": null,
      "outputs": []
    },
    {
      "source": [
        "print(\"Pivot Table:\\n\", pivot_table)\n",
        "# Remove the non-printable character and replace with valid code if intended\n",
        "# For example, if you wanted to display the pivot table, use:\n",
        "print(pivot_table)"
      ],
      "cell_type": "code",
      "metadata": {
        "colab": {
          "base_uri": "https://localhost:8080/"
        },
        "id": "ECAKp41WuP50",
        "outputId": "0dcd4fd1-0f7c-4e8e-ccf6-7c7dc851ad91"
      },
      "execution_count": null,
      "outputs": [
        {
          "output_type": "stream",
          "name": "stdout",
          "text": [
            "Pivot Table:\n",
            "    quality  citric_acid\n",
            "0        3     1.003857\n",
            "1        4     0.948657\n",
            "2        5     0.514153\n",
            "3        6     0.361420\n",
            "4        7     0.760803\n",
            "5        8     0.960370\n",
            "6        9     1.007827\n",
            "   quality  citric_acid\n",
            "0        3     1.003857\n",
            "1        4     0.948657\n",
            "2        5     0.514153\n",
            "3        6     0.361420\n",
            "4        7     0.760803\n",
            "5        8     0.960370\n",
            "6        9     1.007827\n"
          ]
        }
      ]
    },
    {
      "cell_type": "code",
      "source": [
        "# Create a derived column: sugar_density_ratio\n",
        "encoded_data['sugar_density_ratio'] = encoded_data['residual_sugar'] / encoded_data['density']\n",
        "\n"
      ],
      "metadata": {
        "id": "WCCDx5A5tEO-"
      },
      "execution_count": null,
      "outputs": []
    },
    {
      "source": [
        "print(\"Derived Column Data Sample:\\n\", encoded_data[['residual_sugar', 'density', 'sugar_density_ratio']].head())\n",
        "#derived  # Remove or comment out 'derived' as it's not defined"
      ],
      "cell_type": "code",
      "metadata": {
        "colab": {
          "base_uri": "https://localhost:8080/"
        },
        "id": "nuRXrYeHum4Y",
        "outputId": "69e81aca-c69d-45b7-c288-4ce79928ef91"
      },
      "execution_count": null,
      "outputs": [
        {
          "output_type": "stream",
          "name": "stdout",
          "text": [
            "Derived Column Data Sample:\n",
            "    residual_sugar  density  sugar_density_ratio\n",
            "0            2.20  1.00080             2.198241\n",
            "1            2.10  0.99940             2.101261\n",
            "2            4.25  0.99660             4.264499\n",
            "3            1.50  0.99832             1.502524\n",
            "4            3.40  0.99892             3.403676\n"
          ]
        }
      ]
    },
    {
      "cell_type": "code",
      "source": [],
      "metadata": {
        "id": "iJUxqXi5tEUn"
      },
      "execution_count": null,
      "outputs": []
    },
    {
      "cell_type": "code",
      "source": [],
      "metadata": {
        "id": "fkKr_h4YtEYK"
      },
      "execution_count": null,
      "outputs": []
    }
  ]
}